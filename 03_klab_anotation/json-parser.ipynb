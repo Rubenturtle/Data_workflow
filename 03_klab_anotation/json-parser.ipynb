{
 "cells": [
  {
   "cell_type": "code",
   "execution_count": 118,
   "metadata": {},
   "outputs": [],
   "source": [
    "import os\n",
    "import json\n",
    "from datetime import datetime, timezone"
   ]
  },
  {
   "cell_type": "code",
   "execution_count": 119,
   "metadata": {},
   "outputs": [],
   "source": [
    "def year_to_milliseconds(year):\n",
    "    # Create a datetime object, the format is UTC, is not the same as local.\n",
    "    start_of_year = datetime(year, 1, 1, 0, 0, 0, tzinfo=timezone.utc) #year, month, day, hour, minute\n",
    "    \n",
    "    # Convert the datetime object to milliseconds since Epoch\n",
    "    milliseconds_since_epoch = int(start_of_year.timestamp() * 1000)\n",
    "    \n",
    "    return milliseconds_since_epoch"
   ]
  },
  {
   "cell_type": "code",
   "execution_count": 120,
   "metadata": {},
   "outputs": [],
   "source": [
    "def get_file_list(root_folder, firstlayer, number_resources):\n",
    "    \"\"\"This script will return a list of the files, it searched for the first one and take the next ones depending on the range of the years\n",
    "\n",
    "    Args:\n",
    "        root_folder (_type_): _description_\n",
    "        updates (_type_): _description_\n",
    "\n",
    "    Returns:\n",
    "        _type_: _description_\n",
    "    \"\"\"\n",
    "    file_list = []\n",
    "    append_files = False  # Flag to indicate when to start appending file paths\n",
    "    folders_processed = 0\n",
    "\n",
    "    # Iterate over all folders within the main folder\n",
    "    for folder_name in os.listdir(root_folder):\n",
    "        folder_path = os.path.join(root_folder, folder_name) # build the folder path\n",
    "        file_path = os.path.join(folder_path, \"resource.json\")\n",
    "        # Check if the folder is the \"localName\" one\n",
    "        if folder_name == firstlayer:\n",
    "            file_list.append(file_path)\n",
    "            append_files = True  # Set the flag to start appending files\n",
    "            continue  # Move to the next iteration without appending \"resource.json\" in this folder\n",
    "\n",
    "        # Append file paths if the flag is set and less than the amount of number_resources\n",
    "        if append_files and folders_processed < number_resources - 1: # updates[\"number_resources\"]\n",
    "            file_list.append(file_path)\n",
    "            folders_processed += 1  # Increment the counter\n",
    "    \n",
    "    return file_list"
   ]
  },
  {
   "cell_type": "code",
   "execution_count": 121,
   "metadata": {},
   "outputs": [],
   "source": [
    "def update_json_files(file_list, year_list, metadata_update):\n",
    "    \"\"\"\n",
    "    Update JSON files in folders named \"first_resource_name\" within the specified year range.\n",
    "\n",
    "    Args:\n",
    "    - file_list (list): list of the files that are input\n",
    "    - year_list (list): List of the years that are going to be usedame\".\n",
    "    - metadata_update (dict): Dictionary containing the updates to be applied to the JSON files.\n",
    "    \"\"\"\n",
    "    # Store the original title\n",
    "    original_title = metadata_update[\"dc:title\"]\n",
    "    \n",
    "    # they should go in pairs\n",
    "    for year, file_path in zip(year_list, file_list):\n",
    "        with open(file_path, 'r') as file:\n",
    "            try:\n",
    "                # Load JSON data into a dict\n",
    "                data = json.load(file)\n",
    "                \n",
    "            except json.JSONDecodeError as e:\n",
    "                # Handle JSON decoding errors\n",
    "                print(f\"Error decoding JSON file {file_path}: {e}\")\n",
    "                continue\n",
    "\n",
    "        # Build the time string\n",
    "        tstart = year_to_milliseconds(year)\n",
    "        tend = year_to_milliseconds(year + 1)\n",
    "        time_string = \"τ1{{tend={},tstart={},ttype=logical}}\".format(tend,tstart) # This is the structure: τ1{tend=962409600000,tstart=646790400000,ttype=logical}\n",
    "        \n",
    "        \"\"\"Open the geometry string and update it\"\"\"\n",
    "        geometry_string = data[\"geometry\"]\n",
    "        # Find the index of the first occurrence of \"S2\"\n",
    "        index_of_s2 = geometry_string.find(\"S2\")\n",
    "        # build the string\n",
    "        updated_geometry_string = time_string + geometry_string[index_of_s2:]\n",
    "        # update the field\n",
    "        data[\"geometry\"] = updated_geometry_string\n",
    "        \n",
    "        \"\"\"Update the rest of the dict with the update values\"\"\"\n",
    "        # Append the year to the title\n",
    "        metadata_update[\"dc:title\"] = original_title + \" \" + str(year)\n",
    "        \n",
    "        # update the rest\n",
    "        data[\"metadata\"] = metadata_update\n",
    "        \n",
    "        \"\"\"Little BIG issue, as a dict [] and {} have no space, but the json must. Change the dict to string and replace them\"\"\"\n",
    "        # Transform the dict into a string\n",
    "        data_string = json.dumps(data, indent=2, separators=(', ', ' : '), ensure_ascii=False)\n",
    "        # Replace the elements\n",
    "        data_string = data_string.replace(\"[]\",\"[ ]\").replace(\"{}\",\"{ }\")\n",
    "\n",
    "        \"\"\"Uncoment this part once you are sure what you are doing\"\"\"\n",
    "        # Open the JSON file for writing\n",
    "        with open(file_path, 'w') as file:\n",
    "            file.write(data_string)\n",
    "            \n",
    "            \n",
    "    return data, print(\"Finish\")\n"
   ]
  },
  {
   "cell_type": "code",
   "execution_count": 122,
   "metadata": {},
   "outputs": [
    {
     "name": "stdout",
     "output_type": "stream",
     "text": [
      "['C:\\\\Users\\\\ruben.crespo\\\\.klab\\\\workspace\\\\esa.people.sandbox\\\\resources\\\\esa_people.copernicus_combined_drought_indicator_avg_of_eu_v3_2012\\\\resource.json', 'C:\\\\Users\\\\ruben.crespo\\\\.klab\\\\workspace\\\\esa.people.sandbox\\\\resources\\\\esa_people.copernicus_combined_drought_indicator_avg_of_eu_v3_2013\\\\resource.json', 'C:\\\\Users\\\\ruben.crespo\\\\.klab\\\\workspace\\\\esa.people.sandbox\\\\resources\\\\esa_people.copernicus_combined_drought_indicator_avg_of_eu_v3_2014\\\\resource.json', 'C:\\\\Users\\\\ruben.crespo\\\\.klab\\\\workspace\\\\esa.people.sandbox\\\\resources\\\\esa_people.copernicus_combined_drought_indicator_avg_of_eu_v3_2015\\\\resource.json', 'C:\\\\Users\\\\ruben.crespo\\\\.klab\\\\workspace\\\\esa.people.sandbox\\\\resources\\\\esa_people.copernicus_combined_drought_indicator_avg_of_eu_v3_2016\\\\resource.json', 'C:\\\\Users\\\\ruben.crespo\\\\.klab\\\\workspace\\\\esa.people.sandbox\\\\resources\\\\esa_people.copernicus_combined_drought_indicator_avg_of_eu_v3_2017\\\\resource.json', 'C:\\\\Users\\\\ruben.crespo\\\\.klab\\\\workspace\\\\esa.people.sandbox\\\\resources\\\\esa_people.copernicus_combined_drought_indicator_avg_of_eu_v3_2018\\\\resource.json', 'C:\\\\Users\\\\ruben.crespo\\\\.klab\\\\workspace\\\\esa.people.sandbox\\\\resources\\\\esa_people.copernicus_combined_drought_indicator_avg_of_eu_v3_2019\\\\resource.json', 'C:\\\\Users\\\\ruben.crespo\\\\.klab\\\\workspace\\\\esa.people.sandbox\\\\resources\\\\esa_people.copernicus_combined_drought_indicator_avg_of_eu_v3_2020\\\\resource.json', 'C:\\\\Users\\\\ruben.crespo\\\\.klab\\\\workspace\\\\esa.people.sandbox\\\\resources\\\\esa_people.copernicus_combined_drought_indicator_avg_of_eu_v3_2021\\\\resource.json', 'C:\\\\Users\\\\ruben.crespo\\\\.klab\\\\workspace\\\\esa.people.sandbox\\\\resources\\\\esa_people.copernicus_combined_drought_indicator_avg_of_eu_v3_2022\\\\resource.json']\n"
     ]
    }
   ],
   "source": [
    "root_folder = r\"C:\\Users\\ruben.crespo\\.klab\\workspace\\esa.people.sandbox\\resources\"\n",
    "firstlayer = \"esa_people.copernicus_combined_drought_indicator_avg_of_eu_v3_2012\" #name of the folder\n",
    "\n",
    "\"\"\"These two have to match\"\"\"\n",
    "number_resources = 11\n",
    "year_list = range(2012, 2022 + 1, 1) # or give a set of unique years [2001, 2002]\n",
    "\n",
    "\n",
    "\"\"\"Define the content\"\"\" # - \\r\\n = Enter\n",
    "Title = \"Combined Drought Indicator (CDI) v3\"\n",
    "Description = \"The CDI is an indicator for drought early warning, specifically designed to monitor agricultural\\n drought. Through the combination of spatial patterns of precipitation, soil moisture and greenness\\n vegetation anomalies, the CDI identifies areas at risk of agricultural drought, areas where the\\n vegetation has already been affected by drought and areas in the process of recovery to normal\\n conditions. Accordingly, the CDI classification scheme defines three primary drought classes\\n (“Watch”, “Warning” and “Alert”) and three recovery classes (“Temporary Soil Moisture recovery”,\\n “Temporary vegetation recovery” and “Recovery”). The CDI version 2.0.0 (hereafter, v2) has been\\n developed by Cammalleri et al. (2021), following the work of Sepulcre-Canto et al. (2012). The\\n European Drought Observatory released the CDI v3 update in March 2023. This revision mainly\\n benefits from the incorporation of time-varying crop masks, which prevent the use of the ALERT\\n impact class (stress for vegetation) in crop areas out of the growing season.\\n\\n The resource has been adapted transforming the classes from 0 to 3, 0 meaning no drought, 1 watch,\\n 2 warning and 3 Alert, into percentages:\\n 0 = 1.0; 1 = 0.66; 2 = 0.33 and 3 = 0\\n later, the average of all the 36 of all the timestamps for a pixel over the year.\"\n",
    "Originating_institution = \"Copernicus European Drought Observatory (EDO)\"\n",
    "Url_doi = \"https://joint-research-centre.ec.europa.eu/system/files/2023-09/Copernicus_EDO_Factsheet_CDI_v3_20230515.pdf\"\n",
    "Autors = \"Rubén Crespo Ceballos\"\n",
    "Theme = \"Soil\"\n",
    "Geographical_region = \"Global\"\n",
    "Keywords = \"Drought severity\"\n",
    "References = \"\"\"Cammalleri, C. and Arias-Muñoz, C. and Barbosa, P. and de Jager, A. and Magni, D. and Masante, \n",
    "D. and Mazzeschi, M. and McCormick, N. and Naumann, G. and Spinoni, J. and and Vogt, J. 2021. \n",
    "A revision of the Combined Drought Indicator (CDI) used in the European Drought Observatory\n",
    "(EDO), Nat. Hazards Earth Syst. Sci., 21, 481–495. \n",
    "\n",
    "Sepulcre-Canto, G. and Horion, S. and Singleton, A. and Carrão, H. and Vogt, J. 2012. \n",
    "Development of a Combined Drought Indicator to detect agricultural drought in Europe. Natural \n",
    "Hazards and Earth System Sciences, 12, 3519-3531.\"\"\"\n",
    "Notes = \"\"\n",
    "\n",
    "metadata_update = {\n",
    "    \"im:keywords\" : Keywords,\n",
    "    \"dc:comment\" : Description,\n",
    "    \"im:notes\" : Notes,\n",
    "    \"dc:title\" : Title,\n",
    "    \"dc:url\" : Url_doi,\n",
    "    \"dc:creator\" : Autors,\n",
    "    \"im:thematic-area\" : Theme,\n",
    "    \"dc:originator\" : Originating_institution,\n",
    "    \"im:geographic-area\" : Geographical_region,\n",
    "    \"dc:source\" : References\n",
    "    }\n",
    "file_list = get_file_list(root_folder, firstlayer, number_resources)\n",
    "# Make sure you are changing what you want\n",
    "print(file_list[:])\n",
    "\n"
   ]
  },
  {
   "cell_type": "code",
   "execution_count": 123,
   "metadata": {},
   "outputs": [
    {
     "name": "stdout",
     "output_type": "stream",
     "text": [
      "C:\\Users\\ruben.crespo\\.klab\\workspace\\esa.people.sandbox\\resources\\esa_people.copernicus_combined_drought_indicator_avg_of_eu_v3_2012\\resource.json\n",
      "C:\\Users\\ruben.crespo\\.klab\\workspace\\esa.people.sandbox\\resources\\esa_people.copernicus_combined_drought_indicator_avg_of_eu_v3_2013\\resource.json\n",
      "C:\\Users\\ruben.crespo\\.klab\\workspace\\esa.people.sandbox\\resources\\esa_people.copernicus_combined_drought_indicator_avg_of_eu_v3_2014\\resource.json\n",
      "C:\\Users\\ruben.crespo\\.klab\\workspace\\esa.people.sandbox\\resources\\esa_people.copernicus_combined_drought_indicator_avg_of_eu_v3_2015\\resource.json\n",
      "C:\\Users\\ruben.crespo\\.klab\\workspace\\esa.people.sandbox\\resources\\esa_people.copernicus_combined_drought_indicator_avg_of_eu_v3_2016\\resource.json\n",
      "C:\\Users\\ruben.crespo\\.klab\\workspace\\esa.people.sandbox\\resources\\esa_people.copernicus_combined_drought_indicator_avg_of_eu_v3_2017\\resource.json\n",
      "C:\\Users\\ruben.crespo\\.klab\\workspace\\esa.people.sandbox\\resources\\esa_people.copernicus_combined_drought_indicator_avg_of_eu_v3_2018\\resource.json\n",
      "C:\\Users\\ruben.crespo\\.klab\\workspace\\esa.people.sandbox\\resources\\esa_people.copernicus_combined_drought_indicator_avg_of_eu_v3_2019\\resource.json\n",
      "C:\\Users\\ruben.crespo\\.klab\\workspace\\esa.people.sandbox\\resources\\esa_people.copernicus_combined_drought_indicator_avg_of_eu_v3_2020\\resource.json\n",
      "C:\\Users\\ruben.crespo\\.klab\\workspace\\esa.people.sandbox\\resources\\esa_people.copernicus_combined_drought_indicator_avg_of_eu_v3_2021\\resource.json\n",
      "C:\\Users\\ruben.crespo\\.klab\\workspace\\esa.people.sandbox\\resources\\esa_people.copernicus_combined_drought_indicator_avg_of_eu_v3_2022\\resource.json\n"
     ]
    }
   ],
   "source": [
    "for file in file_list:\n",
    "    print(file)"
   ]
  },
  {
   "cell_type": "code",
   "execution_count": 124,
   "metadata": {},
   "outputs": [
    {
     "name": "stdout",
     "output_type": "stream",
     "text": [
      "Finish\n"
     ]
    }
   ],
   "source": [
    "data_1 = update_json_files(file_list[:], year_list[:], metadata_update) # for testing"
   ]
  },
  {
   "cell_type": "code",
   "execution_count": 59,
   "metadata": {},
   "outputs": [
    {
     "name": "stdout",
     "output_type": "stream",
     "text": [
      "({'urn': 'local:belen.inguanzo:esa.people.sandbox:esa_people.copernicus_combined_drought_indicator_avg_of_eu_v3_2022', 'version': '0.0.1', 'adapterType': 'wcs', 'localPath': 'esa.aries.peopleea/resources/esa_people.copernicus_combined_drought_indicator_avg_of_eu_v3_2022', 'geometry': 'τ1{tend=1672531200000,tstart=1640995200000,ttype=logical}S2(999,949){bbox=[-35.116786562537584 73.99983360423174 23.912106785228683 72.61731301863757],proj=EPSG:4326}', 'projectName': 'esa.aries.peopleea', 'localName': 'esa_people.copernicus_combined_drought_indicator_avg_of_eu_v3_2022', 'type': 'NUMBER', 'resourceTimestamp': 1702887434713, 'metadata': {'im:keywords': 'Drought severity', 'dc:comment': 'The CDI is an indicator for drought early warning, specifically designed to monitor agricultural\\n drought. Through the combination of spatial patterns of precipitation, soil moisture and greenness\\n vegetation anomalies, the CDI identifies areas at risk of agricultural drought, areas where the\\n vegetation has already been affected by drought and areas in the process of recovery to normal\\n conditions. Accordingly, the CDI classification scheme defines three primary drought classes\\n (“Watch”, “Warning” and “Alert”) and three recovery classes (“Temporary Soil Moisture recovery”,\\n “Temporary vegetation recovery” and “Recovery”). The CDI version 2.0.0 (hereafter, v2) has been\\n developed by Cammalleri et al. (2021), following the work of Sepulcre-Canto et al. (2012). The\\n European Drought Observatory released the CDI v3 update in March 2023. This revision mainly\\n benefits from the incorporation of time-varying crop masks, which prevent the use of the ALERT\\n impact class (stress for vegetation) in crop areas out of the growing season.\\n\\n The resource has been adapted transforming the classes from 0 to 3, 0 meaning no drought, 1 watch,\\n 2 warning and 3 Alert, into percentages:\\n 0 = 1.0; 1 = 0.66; 2 = 0.33 and 3 = 0\\n later, the average of all the 36 of all the timestamps for a pixel over the year.', 'im:notes': '', 'dc:title': 'Combined Drought Indicator (CDI) v3 2022', 'dc:url': 'https://joint-research-centre.ec.europa.eu/system/files/2023-09/Copernicus_EDO_Factsheet_CDI_v3_20230515.pdf', 'dc:creator': '', 'im:thematic-area': 'Soil', 'dc:originator': 'Copernicus European Drought Observatory (EDO)', 'im:geographic-area': 'Global', 'dc:source': 'Cammalleri, C. and Arias-Muñoz, C. and Barbosa, P. and de Jager, A. and Magni, D. and Masante,\\nD. and Mazzeschi, M. and McCormick, N. and Naumann, G. and Spinoni, J. and and Vogt, J. 2021.\\nA revision of the Combined Drought Indicator (CDI) used in the European Drought Observatory\\n(EDO), Nat. Hazards Earth Syst. Sci., 21, 481–495. \\n\\nSepulcre-Canto, G. and Horion, S. and Singleton, A. and Carrão, H. and Vogt, J. 2012.\\nDevelopment of a Combined Drought Indicator to detect agricultural drought in Europe. Natural\\nHazards and Earth System Sciences, 12, 3519-3531.'}, 'parameters': {'wcsIdentifier': 'esa_people__copernicus_combined_drought_indicator_avg_of_eu_v3_2022', 'transform': '', 'serviceUrl': 'https://integratedmodelling.org/aux-geoserver/esa_people/wcs', 'nodata': '-9999', 'wcsVersion': '2.0.1'}, 'localPaths': [], 'history': [], 'notifications': [], 'attributes': [], 'spatialExtent': {'east': 73.99983360423174, 'west': -35.116786562537584, 'north': 72.61731301863757, 'south': 23.912106785228683, 'gridResolution': None, 'gridUnit': None}, 'dependencies': None, 'outputs': None, 'categorizables': [], 'codelists': [], 'availability': None, 'exportFormats': {}}, None)\n"
     ]
    }
   ],
   "source": [
    "print(data_1)"
   ]
  }
 ],
 "metadata": {
  "kernelspec": {
   "display_name": "rasterio_env",
   "language": "python",
   "name": "python3"
  },
  "language_info": {
   "codemirror_mode": {
    "name": "ipython",
    "version": 3
   },
   "file_extension": ".py",
   "mimetype": "text/x-python",
   "name": "python",
   "nbconvert_exporter": "python",
   "pygments_lexer": "ipython3",
   "version": "3.8.15"
  }
 },
 "nbformat": 4,
 "nbformat_minor": 2
}
