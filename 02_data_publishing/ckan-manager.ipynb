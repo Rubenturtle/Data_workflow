{
 "cells": [
  {
   "cell_type": "markdown",
   "metadata": {},
   "source": [
    "# CKAN MANAGER\n"
   ]
  },
  {
   "cell_type": "code",
   "execution_count": 11,
   "metadata": {},
   "outputs": [],
   "source": [
    "import ckanapi\n",
    "import re\n",
    "import os\n",
    "import requests\n",
    "from bs4 import BeautifulSoup"
   ]
  },
  {
   "cell_type": "code",
   "execution_count": 12,
   "metadata": {},
   "outputs": [],
   "source": [
    "# CKAN API base URL and API KEY\n",
    "\"\"\"WARNING: ESTO NO HAGAS PUSH\"\"\"\n",
    "CKAN_BASE_URL = \"https://data.integratedmodelling.org/\"\n",
    "API_KEY = \"\"\n",
    "\n",
    "ckan = ckanapi.RemoteCKAN(CKAN_BASE_URL, apikey=API_KEY)"
   ]
  },
  {
   "cell_type": "code",
   "execution_count": 13,
   "metadata": {},
   "outputs": [],
   "source": [
    "def get_csv_file_list(path):\n",
    "    File_list = [] #f for f in os.listdir(path) if os.isfile(mypath,f)\n",
    "    for file in os.listdir(path):\n",
    "        if file.endswith(\".csv\"):\n",
    "            if file not in File_list:\n",
    "                File_list.append(os.path.join(path,file))\n",
    "        else:\n",
    "            pass\n",
    "    return File_list\n",
    "\n",
    "def get_all_datasets(ckan):\n",
    "    try:\n",
    "        datasets = ckan.action.package_list()\n",
    "        all_datasets = []\n",
    "        for dataset_id in datasets:\n",
    "            dataset = ckan.action.package_show(id=dataset_id)\n",
    "            all_datasets.append(dataset)\n",
    "        return all_datasets\n",
    "    except Exception as e:\n",
    "        exceptions(e)\n",
    "        return None\n",
    "\n",
    "def get_dataset_by_name(ckan, dataset_name):\n",
    "    try:\n",
    "        result = ckan.action.package_search(q='name:\"{}\"'.format(dataset_name))\n",
    "        datasets = result['results']\n",
    "        if result['count'] == 0:\n",
    "            print(\"Dataset with name '{}' does not exist.\".format(dataset_name))\n",
    "            return None\n",
    "        elif result['count'] == 1:\n",
    "            print(\"Dataset with name '{}' already exists.\".format(dataset_name))\n",
    "            return datasets[0]\n",
    "        else:\n",
    "            return print(\"Dataset with name '{}' are more than one.\".format(dataset_name))\n",
    "    except Exception as e:\n",
    "        exceptions(e)\n",
    "        return None\n",
    "    \n",
    "def get_organization_groups(ckan):\n",
    "    try:\n",
    "        organization_groups = ckan.action.organization_list(all_fields=True)\n",
    "        return organization_groups\n",
    "    except Exception as e:\n",
    "        exceptions(e)\n",
    "        return None\n",
    "    \n",
    "def get_all_licenses(ckan):\n",
    "    try:\n",
    "        licenses = ckan.action.license_list()\n",
    "        return licenses\n",
    "    except Exception as e:\n",
    "        exceptions(e)\n",
    "        return None\n",
    "\n",
    "def create_dataset(ckan, dataset_metadata):\n",
    "    try:\n",
    "        created_dataset = ckan.action.package_create(**dataset_metadata)\n",
    "        print(\"Create dataset: \", created_dataset[\"name\"])\n",
    "        return created_dataset\n",
    "    except Exception as e:\n",
    "        exceptions(e)\n",
    "        return None\n",
    "\n",
    "def create_resource(ckan, resource_metadata, file_obj=None):\n",
    "    try:\n",
    "        if file_obj:\n",
    "            created_resource = ckan.action.resource_create(**resource_metadata, upload=file_obj)\n",
    "            print(\"Create resource: \", created_resource[\"name\"])\n",
    "        else:\n",
    "            created_resource = ckan.action.resource_create(**resource_metadata)\n",
    "            print(\"Create resource: \", created_resource[\"name\"])\n",
    "        return created_resource\n",
    "    except Exception as e:\n",
    "        exceptions(e)\n",
    "        return None\n",
    "    \n",
    "def create_view(ckan, view_params):\n",
    "    try:\n",
    "        created_view = ckan.action.resource_view_create(**view_params)\n",
    "        return created_view\n",
    "    except Exception as e:\n",
    "        exceptions(e)\n",
    "        return None\n",
    "\n",
    "def delete_dataset(ckan, dataset_id):\n",
    "    try:\n",
    "        ckan.action.package_delete(id=dataset_id)\n",
    "        return print(\"Dataset deleted successfully.\")\n",
    "    except Exception as e:\n",
    "        exceptions(e)\n",
    "        return None\n",
    "\n",
    "def exceptions(exception):\n",
    "    if isinstance(exception, ckanapi.NotFound):\n",
    "        print(\"Not found:\", exception)\n",
    "    elif isinstance(exception, ckanapi.NotAuthorized):\n",
    "        print(\"Not authorized:\", exception)\n",
    "    elif isinstance(exception, ckanapi.CKANAPIError):\n",
    "        print(\"CKAN API error:\", exception)\n",
    "    else:\n",
    "        print(\"An unexpected error I did not code occurred:\", exception)\n",
    "\n",
    "def get_url_xml(url):\n",
    "    response = requests.get(url)\n",
    "    if response.status_code == 200:\n",
    "        return response.text\n",
    "    else:\n",
    "        print(\"Error: Failed to retrieve GetCapabilities document\")\n",
    "        return None\n",
    "    \n",
    "def extract_ows_layers(capabilities_xml, regex_pattern):\n",
    "    soup = BeautifulSoup(capabilities_xml, 'xml')\n",
    "    if soup.find('wcs:CoverageId'):\n",
    "        layers = soup.find_all('wcs:CoverageId')\n",
    "    elif soup.find('wfs:Name'):\n",
    "        layers = soup.find_all('wfs:Name')\n",
    "    else:\n",
    "        print(\"wtf\")\n",
    "\n",
    "    layer_names = [layer.text for layer in layers]\n",
    "    matched_layers = [layer for layer in layer_names if re.match(regex_pattern, layer)]\n",
    "    return matched_layers\n",
    "\n",
    "def describecoverage_or_feature_request(ows_url, layers):\n",
    "    created_layers = []\n",
    "    for layer in layers:\n",
    "        if \"__\" in layer:\n",
    "            describecoverage = r\"?service=WCS&version=2.0.1&request=DescribeCoverage&CoverageId=\"\n",
    "            created_layers.append(ows_url + describecoverage + layer)\n",
    "        elif \":\" in layer:\n",
    "            describefeaturetype = r\"?request=DescribeFeatureType&version=1.0.0&service=WFS&typeName=\"\n",
    "            created_layers.append(ows_url + describefeaturetype + layer)\n",
    "    return created_layers\n",
    "\n",
    "\n",
    "def size_reduzer(width_str, height_str):\n",
    "    width = int(width_str)\n",
    "    height = int(height_str)\n",
    "    max_value = max(width, height)       \n",
    "    if max_value > 5000:\n",
    "        # Lets scale it. I set the limit in 5000\n",
    "        scale_factor = 5000 / max_value\n",
    "        width = round(width * scale_factor)\n",
    "        height = round(height * scale_factor)\n",
    "        return str(width), str(height)\n",
    "    else:\n",
    "        return str(width), str(height)\n",
    "\n",
    "def getmap_from_describecoverage(ows_url, describe_coverage):\n",
    "    soup = BeautifulSoup(describe_coverage, 'xml')\n",
    "    coverageid = soup.find('wcs:CoverageId').text.replace(\"__\", \"%3A\")\n",
    "    lowercorner = '%2C'.join(reversed(soup.find('gml:lowerCorner').text.split())) # I reverted the coord order values to fit the query\n",
    "    uppercorner = '%2C'.join(reversed(soup.find('gml:upperCorner').text.split())) # I reverted the coord order values to fit the query\n",
    "    original_width, original_height = soup.find(\"gml:high\").text.split() # This is the original, but is too big\n",
    "    \n",
    "    width, height = size_reduzer(original_width, original_height)\n",
    "\n",
    "    epsg = soup.find('gml:Envelope')['srsName'].split('/')[-1] # Got the EPSG from the XML\n",
    "   \n",
    "    view_layer = ows_url + \"?service=WMS&version=1.1.0&request=GetMap&layers=\" + coverageid + \"&bbox=\" + lowercorner + \"%2C\" + uppercorner + \"&width=\" + width + \"&height=\" + height + \"&srs=EPSG%3A\" + epsg + \"&format=image%2Fjpeg\"\n",
    "    return view_layer\n",
    "\n",
    "def getcoverage_request(ows_url, coverageid):\n",
    "    getcoverage = ows_url + r\"?request=GetCoverage&service=WCS&Version=2.0.1&coverageid=\" + coverageid + r\"&format=image/geotiff\"\n",
    "    return getcoverage\n"
   ]
  },
  {
   "cell_type": "code",
   "execution_count": 15,
   "metadata": {},
   "outputs": [
    {
     "name": "stdout",
     "output_type": "stream",
     "text": [
      "Dataset name: global-vegetation-carbon-stock-2001-2020 Title:  Vegetation Carbon Stock 2001-2020\n",
      "ownership name:  integrated-modelling-parnership owner_org:  e7a09a40-27a3-42b0-b265-8e034fe1454a\n"
     ]
    }
   ],
   "source": [
    "\"\"\"Check the groups/datasets availability\"\"\"\n",
    "# See all datasets\n",
    "datasets = get_all_datasets(ckan)\n",
    "for dataset in datasets:\n",
    "    print(\"Dataset name:\", dataset[\"name\"], \"Title: \", dataset[\"title\"])\n",
    "# Get all organization groups\n",
    "org_groups = get_organization_groups(ckan)\n",
    "for group in org_groups:\n",
    "    print(\"ownership name: \", group[\"name\"], \"owner_org: \", group[\"id\"])\n"
   ]
  },
  {
   "cell_type": "code",
   "execution_count": null,
   "metadata": {},
   "outputs": [],
   "source": [
    "\"\"\"Get all licenses\"\"\"\n",
    "licenses = get_all_licenses(ckan)\n",
    "for license in licenses:\n",
    "    print(\"License name:\", license[\"title\"], \" - ID:\", license[\"id\"])"
   ]
  },
  {
   "cell_type": "code",
   "execution_count": 16,
   "metadata": {},
   "outputs": [
    {
     "name": "stdout",
     "output_type": "stream",
     "text": [
      "['https://integratedmodelling.org/aux-geoserver/ows?service=WCS&version=2.0.1&request=DescribeCoverage&CoverageId=wb-nca-kaduna-nasarwa-2015-2020__kaduna_corganic_mass_4326_300m_2015', 'https://integratedmodelling.org/aux-geoserver/ows?service=WCS&version=2.0.1&request=DescribeCoverage&CoverageId=wb-nca-kaduna-nasarwa-2015-2020__kaduna_corganic_mass_4326_300m_2020', 'https://integratedmodelling.org/aux-geoserver/ows?service=WCS&version=2.0.1&request=DescribeCoverage&CoverageId=wb-nca-kaduna-nasarwa-2015-2020__kaduna_corganic_soil_mass_4326_300m_2015', 'https://integratedmodelling.org/aux-geoserver/ows?service=WCS&version=2.0.1&request=DescribeCoverage&CoverageId=wb-nca-kaduna-nasarwa-2015-2020__kaduna_corganic_soil_mass_4326_300m_2020', 'https://integratedmodelling.org/aux-geoserver/ows?service=WCS&version=2.0.1&request=DescribeCoverage&CoverageId=wb-nca-kaduna-nasarwa-2015-2020__kaduna_cvegetation_mass_4326_300m_2015', 'https://integratedmodelling.org/aux-geoserver/ows?service=WCS&version=2.0.1&request=DescribeCoverage&CoverageId=wb-nca-kaduna-nasarwa-2015-2020__kaduna_cvegetation_mass_4326_300m_2020', 'https://integratedmodelling.org/aux-geoserver/ows?service=WCS&version=2.0.1&request=DescribeCoverage&CoverageId=wb-nca-kaduna-nasarwa-2015-2020__kaduna_ecosystem_type_4326_300m_2015', 'https://integratedmodelling.org/aux-geoserver/ows?service=WCS&version=2.0.1&request=DescribeCoverage&CoverageId=wb-nca-kaduna-nasarwa-2015-2020__kaduna_ecosystem_type_4326_300m_2020', 'https://integratedmodelling.org/aux-geoserver/ows?service=WCS&version=2.0.1&request=DescribeCoverage&CoverageId=wb-nca-kaduna-nasarwa-2015-2020__kaduna_land_cover_type_4326_300m_2015', 'https://integratedmodelling.org/aux-geoserver/ows?service=WCS&version=2.0.1&request=DescribeCoverage&CoverageId=wb-nca-kaduna-nasarwa-2015-2020__kaduna_land_cover_type_4326_300m_2020', 'https://integratedmodelling.org/aux-geoserver/ows?service=WCS&version=2.0.1&request=DescribeCoverage&CoverageId=wb-nca-kaduna-nasarwa-2015-2020__kaduna_retained_soil_mass_from_vegetation_4326_300m_2015', 'https://integratedmodelling.org/aux-geoserver/ows?service=WCS&version=2.0.1&request=DescribeCoverage&CoverageId=wb-nca-kaduna-nasarwa-2015-2020__kaduna_retained_soil_mass_from_vegetation_4326_300m_2020', 'https://integratedmodelling.org/aux-geoserver/ows?service=WCS&version=2.0.1&request=DescribeCoverage&CoverageId=wb-nca-kaduna-nasarwa-2015-2020__nasarawa_corganic_mass_4326_300m_2015', 'https://integratedmodelling.org/aux-geoserver/ows?service=WCS&version=2.0.1&request=DescribeCoverage&CoverageId=wb-nca-kaduna-nasarwa-2015-2020__nasarawa_corganic_mass_4326_300m_2020', 'https://integratedmodelling.org/aux-geoserver/ows?service=WCS&version=2.0.1&request=DescribeCoverage&CoverageId=wb-nca-kaduna-nasarwa-2015-2020__nasarawa_corganic_soil_mass_4326_300m_2015', 'https://integratedmodelling.org/aux-geoserver/ows?service=WCS&version=2.0.1&request=DescribeCoverage&CoverageId=wb-nca-kaduna-nasarwa-2015-2020__nasarawa_corganic_soil_mass_4326_300m_2020', 'https://integratedmodelling.org/aux-geoserver/ows?service=WCS&version=2.0.1&request=DescribeCoverage&CoverageId=wb-nca-kaduna-nasarwa-2015-2020__nasarawa_cvegetation_mass_4326_300m_2015', 'https://integratedmodelling.org/aux-geoserver/ows?service=WCS&version=2.0.1&request=DescribeCoverage&CoverageId=wb-nca-kaduna-nasarwa-2015-2020__nasarawa_cvegetation_mass_4326_300m_2020', 'https://integratedmodelling.org/aux-geoserver/ows?service=WCS&version=2.0.1&request=DescribeCoverage&CoverageId=wb-nca-kaduna-nasarwa-2015-2020__nasarawa_ecosystem_type_4326_300m_2015', 'https://integratedmodelling.org/aux-geoserver/ows?service=WCS&version=2.0.1&request=DescribeCoverage&CoverageId=wb-nca-kaduna-nasarwa-2015-2020__nasarawa_ecosystem_type_4326_300m_2020', 'https://integratedmodelling.org/aux-geoserver/ows?service=WCS&version=2.0.1&request=DescribeCoverage&CoverageId=wb-nca-kaduna-nasarwa-2015-2020__nasarawa_land_cover_type_4326_300m_2015', 'https://integratedmodelling.org/aux-geoserver/ows?service=WCS&version=2.0.1&request=DescribeCoverage&CoverageId=wb-nca-kaduna-nasarwa-2015-2020__nasarawa_land_cover_type_4326_300m_2020', 'https://integratedmodelling.org/aux-geoserver/ows?service=WCS&version=2.0.1&request=DescribeCoverage&CoverageId=wb-nca-kaduna-nasarwa-2015-2020__nasarawa_retained_soil_mass_from_vegetation_4326_300m_2015', 'https://integratedmodelling.org/aux-geoserver/ows?service=WCS&version=2.0.1&request=DescribeCoverage&CoverageId=wb-nca-kaduna-nasarwa-2015-2020__nasarawa_retained_soil_mass_from_vegetation_4326_300m_2020']\n"
     ]
    }
   ],
   "source": [
    "\"\"\"Prepare the INPUTS\"\"\"\n",
    "\n",
    "\"\"\"Local files\"\"\"\n",
    "resources = []\n",
    "\n",
    "\"\"\"Get CSV resources\"\"\"\n",
    "# files_path = r\"C:\\Users\\admin\\Downloads\\ES\"\n",
    "# file_list = get_csv_file_list(files_path)\n",
    "# resources = resources + file_list\n",
    "\n",
    "\"\"\"Get OWS resources\"\"\"\n",
    "ows_url = r'https://integratedmodelling.org/aux-geoserver/ows' # https://integratedmodelling.org/dev-geoserver/ows\n",
    "\n",
    "# Get WCS resources\n",
    "getcapabilities = r\"?service=WCS&request=GetCapabilities\"\n",
    "capabilities_xml = get_url_xml(ows_url + getcapabilities)\n",
    "\n",
    "regex_pattern = r'wb-nca-kaduna-nasarwa-2015-2020.*' # 'im-nca-data__iucn_.*'\n",
    "\n",
    "ows_layers = extract_ows_layers(capabilities_xml, regex_pattern)\n",
    "\n",
    "wcs_layers = describecoverage_or_feature_request(ows_url, ows_layers)\n",
    "resources = resources + wcs_layers\n",
    "\n",
    "# WFS resources\n",
    "# getcapabilities = r\"?service=WFS&request=GetCapabilities\"\n",
    "# capabilities_xml = get_url_xml(ows_url + getcapabilities)\n",
    "\n",
    "# regex_pattern = r'im-data-global-agriculture:crop_polli.*'\n",
    "\n",
    "# ows_layers = extract_ows_layers(capabilities_xml, regex_pattern)\n",
    "# wfs_layers = describecoverage_or_feature_request(ows_url, ows_layers)\n",
    "# resources = resources + wfs_layers\n",
    "print(resources)"
   ]
  },
  {
   "cell_type": "code",
   "execution_count": 17,
   "metadata": {},
   "outputs": [],
   "source": [
    "# If the dataset does not exist. The next areas have to be filled\n",
    "# El concepto de grupo prefiero que se genere manualmente. Luego asocialo al que quieras.\n",
    "dataset_name = \"ecosystem-accounts-nigeria-2015-2020\" #No spaces. This is the name on the URL PATH.\n",
    "title = \"SEEA Ecosystem Accounts for Nasarawa and Kaduna States for 2015 and 2020\"\n",
    "author = \"Caterina Gilli, Alessio Bulckaen\"\n",
    "author_email = \"caterina.gilli@bc3research.org\" # Parece que no se pueden meter mas de un email\n",
    "maintainer = \"Rubén Crespo\"\n",
    "maintainer_email = \"ruben.crespo@bc3research.org\"\n",
    "license_id = \"cc-by\"\n",
    "description = \"this is the description of the dataset\"\n",
    "group = [] # It is a list.\n",
    "owner_org = \"e7a09a40-27a3-42b0-b265-8e034fe1454a\" # This is the organization integrated modelling and WILL ALWAYS BE."
   ]
  },
  {
   "cell_type": "code",
   "execution_count": 18,
   "metadata": {},
   "outputs": [],
   "source": [
    "dataset_metadata = {\n",
    "    \"name\": dataset_name,               # the name of the new dataset\n",
    "    \"title\": title,              # the title of the dataset (optional, default: same as name)\n",
    "    \"private\": False,         # If True creates a private dataset\n",
    "    \"author\": author,             # the name of the dataset’s author (optional)\n",
    "    \"author_email\": author_email,       # the email address of the dataset’s author (optional)\n",
    "    \"maintainer\": maintainer,         # the name of the dataset’s maintainer (optional)\n",
    "    \"maintainer_email\": maintainer_email,   # the email address of the dataset’s maintainer (optional)\n",
    "    \"license_id\": license_id,         # the id of the dataset’s license (optional)\n",
    "    \"notes\": description,              # a description of the dataset (optional)\n",
    "    \"url\": \"\",                # a URL for the dataset’s source (optional)\n",
    "    \"version\": \"\",            # (optional)\n",
    "    \"state\": \"active\",        # the current state of the dataset (optional, default: 'active')\n",
    "    \"type\": \"\",               # the type of the dataset (optional)\n",
    "    \"resources\": [],          # the dataset’s resources, list of resource dictionaries (optional)\n",
    "    \"tags\": [],               # the dataset’s tags, list of tag dictionaries (optional)\n",
    "    \"extras\": [],             # the dataset’s extras, list of dataset extra dictionaries (optional)\n",
    "    \"relationships_as_object\": [],  # list of relationship dictionaries (optional)\n",
    "    \"relationships_as_subject\": [], # list of relationship dictionaries (optional)\n",
    "    \"groups\": group,             # the groups to which the dataset belongs (optional)\n",
    "    \"owner_org\": owner_org           # the id of the dataset’s owning organization (optional)\n",
    "}"
   ]
  },
  {
   "cell_type": "code",
   "execution_count": 19,
   "metadata": {},
   "outputs": [
    {
     "name": "stdout",
     "output_type": "stream",
     "text": [
      "Dataset with name 'ecosystem-accounts-nigeria-2015-2020' does not exist.\n",
      "Create dataset:  ecosystem-accounts-nigeria-2015-2020\n"
     ]
    }
   ],
   "source": [
    "# dataset = None\n",
    "dataset = get_dataset_by_name(ckan, dataset_name)\n",
    "if dataset is None:\n",
    "    # Create the dataset\n",
    "    new_dataset = create_dataset(ckan, dataset_metadata)\n",
    "    # Assign the variable\n",
    "    dataset = new_dataset\n"
   ]
  },
  {
   "cell_type": "code",
   "execution_count": 20,
   "metadata": {},
   "outputs": [
    {
     "name": "stdout",
     "output_type": "stream",
     "text": [
      "Create resource:  eco_acc_kaduna_carbon_biophysical_supply_by_et_2015-2020\n",
      "Create resource:  eco_acc_kaduna_sediment_biophysical_supply_by_et_2015-2020\n",
      "Create resource:  eco_acc_kaduna_soil_organic_carbon_biophysical_supply_by_et_2015-2020\n",
      "Create resource:  eco_acc_kaduna_vegetation_carbon_biophysical_supply_by_et_2015-2020\n",
      "Create resource:  eco_acc_nasarawa_carbon_biophysical_supply_by_et_2015-2020\n",
      "Create resource:  eco_acc_nasarawa__sediment_biophysical_supply_sby_et_2015-2020\n",
      "Create resource:  eco_acc_nasarawa__soil_organic_carbon_biophysical_supply_by_et_2015-2020\n",
      "Create resource:  eco_acc_nasarawa__vegetation_carbon_biophysical_supply_by_et_2015-2020\n",
      "Create resource:  eco_acc_kaduna_corganic_mass_4326_300m_2015\n",
      "Create resource:  eco_acc_kaduna_corganic_mass_4326_300m_2020\n",
      "Create resource:  eco_acc_kaduna_corganic_soil_mass_4326_300m_2015\n",
      "Create resource:  eco_acc_kaduna_corganic_soil_mass_4326_300m_2020\n",
      "Create resource:  eco_acc_kaduna_cvegetation_mass_4326_300m_2015\n",
      "Create resource:  eco_acc_kaduna_cvegetation_mass_4326_300m_2020\n",
      "Create resource:  eco_acc_kaduna_ecosystem_type_4326_300m_2015\n",
      "Create resource:  eco_acc_kaduna_ecosystem_type_4326_300m_2020\n",
      "Create resource:  eco_acc_kaduna_land_cover_type_4326_300m_2015\n",
      "Create resource:  eco_acc_kaduna_land_cover_type_4326_300m_2020\n",
      "Create resource:  eco_acc_kaduna_retained_soil_mass_from_vegetation_4326_300m_2015\n",
      "Create resource:  eco_acc_kaduna_retained_soil_mass_from_vegetation_4326_300m_2020\n",
      "Create resource:  eco_acc_nasarawa_corganic_mass_4326_300m_2015\n",
      "Create resource:  eco_acc_nasarawa_corganic_mass_4326_300m_2020\n",
      "Create resource:  eco_acc_nasarawa_corganic_soil_mass_4326_300m_2015\n",
      "Create resource:  eco_acc_nasarawa_corganic_soil_mass_4326_300m_2020\n",
      "Create resource:  eco_acc_nasarawa_cvegetation_mass_4326_300m_2015\n",
      "Create resource:  eco_acc_nasarawa_cvegetation_mass_4326_300m_2020\n",
      "Create resource:  eco_acc_nasarawa_ecosystem_type_4326_300m_2015\n",
      "Create resource:  eco_acc_nasarawa_ecosystem_type_4326_300m_2020\n",
      "Create resource:  eco_acc_nasarawa_land_cover_type_4326_300m_2015\n",
      "Create resource:  eco_acc_nasarawa_land_cover_type_4326_300m_2020\n",
      "Create resource:  eco_acc_nasarawa_retained_soil_mass_from_vegetation_4326_300m_2015\n",
      "Create resource:  eco_acc_nasarawa_retained_soil_mass_from_vegetation_4326_300m_2015__2_\n"
     ]
    }
   ],
   "source": [
    "for resource in resources[:]:\n",
    "    if resource.endswith(\"csv\"):\n",
    "        resource_format = \"CSV\"\n",
    "        csv_file = open(resource, mode='rb')\n",
    "\n",
    "        resource_metadata = {\n",
    "        'name': os.path.splitext(os.path.basename(resource))[0],\n",
    "        'description': '',\n",
    "        'url': '',\n",
    "        'format': resource_format,\n",
    "        'package_id': dataset[\"id\"],\n",
    "        'state': 'active',\n",
    "        }\n",
    "        new_resource = create_resource(ckan, resource_metadata, file_obj=csv_file)\n",
    "        # No es necesario crear un View por ahora, se genera uno automaticamente.\n",
    "        # view_params = {\n",
    "        # 'resource_id': new_resource[\"id\"],\n",
    "        # 'view_type': \"grid_view\",\n",
    "        # 'title': \"Grid type\"\n",
    "        # }\n",
    "        # create_view(ckan, view_params)\n",
    "        csv_file.close() # Hay que cerrarlo siempre\n",
    "        \n",
    "    elif \"WCS\" in resource:    \n",
    "        \"\"\"We are going to transform the DescribeFeature to a GetCoverage request\"\"\"\n",
    "        # Get the CoverageID from the sentence\n",
    "        pattern = r'CoverageId=.*?__(.*?)(&|$)'\n",
    "        match = re.search(pattern, resource)\n",
    "        coverage_id = match.group(1)\n",
    "\n",
    "        \"\"\"Punto de inflexión: o getcoverage o el describecoverage que ya viene\"\"\"\n",
    "        getcoverage = getcoverage_request(ows_url, coverage_id)\n",
    "\n",
    "        resource_metadata = {\n",
    "        'name': coverage_id,\n",
    "        'description': '',\n",
    "        'url': getcoverage,\n",
    "        'datastore_active': False,\n",
    "        'format': 'WCS',\n",
    "        'package_id': dataset[\"id\"],\n",
    "        'state': 'active',\n",
    "        }\n",
    "        \n",
    "        new_resource = create_resource(ckan, resource_metadata, file_obj=None)\n",
    "\n",
    "        describe_coverage = get_url_xml(resource)\n",
    "        # Empieza con el View\n",
    "        getmap_url = getmap_from_describecoverage(ows_url, describe_coverage)\n",
    "\n",
    "        view_metadata = {\n",
    "        'description': '',\n",
    "        'title': coverage_id,\n",
    "        'resource_id': new_resource[\"id\"],\n",
    "        'view_type': 'image_view',\n",
    "        'image_url': getmap_url  # Replace with the URL of your image\n",
    "        }\n",
    "        create_view(ckan, view_metadata)\n",
    "\n",
    "\n",
    "    elif \"WFS\" in resource:\n",
    "        print(\"I did not program this yet\")\n",
    "    else:\n",
    "        print(\"wtf\")\n",
    "    "
   ]
  },
  {
   "cell_type": "code",
   "execution_count": 116,
   "metadata": {},
   "outputs": [
    {
     "data": {
      "text/plain": [
       "'https://integratedmodelling.org/aux-geoserver/ows?service=WCS&version=2.0.1&request=DescribeCoverage&CoverageId=im-nca-nigeria__kaduna_corganic_mass_2020'"
      ]
     },
     "execution_count": 116,
     "metadata": {},
     "output_type": "execute_result"
    }
   ],
   "source": [
    "resource"
   ]
  },
  {
   "cell_type": "code",
   "execution_count": 114,
   "metadata": {},
   "outputs": [
    {
     "data": {
      "text/plain": [
       "'https://integratedmodelling.org/aux-geoserver/ows?service=WMS&version=1.1.0&request=GetMap&layers=im-nca-nigeria%3Akaduna_corganic_mass_2020&bbox=6.0934%2C9.0007%2C8.785%2C11.4955&width=998&height=920&srs=EPSG%3A4326&format=image%2Fjpeg'"
      ]
     },
     "execution_count": 114,
     "metadata": {},
     "output_type": "execute_result"
    }
   ],
   "source": [
    "getmap_url"
   ]
  },
  {
   "cell_type": "markdown",
   "metadata": {},
   "source": []
  },
  {
   "cell_type": "code",
   "execution_count": null,
   "metadata": {},
   "outputs": [],
   "source": [
    "\"\"\"\n",
    "'description': '',\n",
    "'title': 'vcs_2003_global_300m',\n",
    "'resource_id': '6df149a2-ba88-4a4a-9749-1dd60bb2bc4c',\n",
    "'view_type': 'image_view',\n",
    "'id': '41969700-992a-4d69-ac3e-395bd924a5e0',\n",
    "'package_id': 'b6900b3f-c345-4cae-90a2-809104b0ed76',\n",
    "'image_url': 'https://data.integratedmodelling.org/geoserver/world_bank/wms?service=WMS&version=1.1.0&request=GetMap&layers=world_bank%3Avcs_2003_global_300m&bbox=-180.0%2C-57.0%2C180.0%2C84.0&width=1152&height=495&srs=EPSG%3A4326&format=image%2Fjpeg'}]\n",
    "\"\"\""
   ]
  },
  {
   "cell_type": "code",
   "execution_count": 73,
   "metadata": {},
   "outputs": [
    {
     "data": {
      "text/plain": [
       "'b848b602-89c0-46e3-8079-b5b38abb1d57'"
      ]
     },
     "execution_count": 73,
     "metadata": {},
     "output_type": "execute_result"
    }
   ],
   "source": [
    "new_resource[\"id\"]"
   ]
  },
  {
   "cell_type": "code",
   "execution_count": null,
   "metadata": {},
   "outputs": [],
   "source": [
    "delete_dataset(ckan, \"9c5227f6-9e20-48ad-8fb4-978c04e98569\")"
   ]
  },
  {
   "cell_type": "markdown",
   "metadata": {},
   "source": [
    "# View types\n",
    "\n",
    "In CKAN, `view_type` refers to the type of view that you want to create for a resource. These view types determine how the data in the resource will be presented or visualized to users. CKAN provides various view types to accommodate different types of data and visualization needs. Here are some common `view_type` options:\n",
    "\n",
    "1. **grid_view**: This view type displays tabular data in a grid format, similar to a spreadsheet. It's suitable for displaying datasets with rows and columns of data like CSV.\n",
    "\n",
    "2. **graph**: This view type allows you to create different types of graphs and charts to visualize data. Graphs could include bar charts, line charts, pie charts, scatter plots, etc.\n",
    "\n",
    "3. **text_view**: This view type simply displays the raw text content of the resource. It's useful for displaying textual data or files like READMEs, documentation, or plain text files, or CSV.\n",
    "\n",
    "4. **image_view**: This view type displays images that are embedded within the resource. It's suitable for viewing image files or thumbnails.\n",
    "\n",
    "5. **map_view**: This view type displays geographical data on an interactive map. It's commonly used for datasets containing geographic coordinates or spatial data.\n",
    "\n",
    "6. **recline_view**: This view type provides an interactive data exploration interface with features like filtering, sorting, and faceted search. It's useful for exploring and analyzing tabular datasets.\n",
    "\n",
    "8. **markdown**: This view type allows you to render Markdown content within CKAN. It's useful for displaying formatted text, documentation, or other Markdown-based content.\n",
    "\n",
    "9. **recline_view**: Provides an interactive grid view with filtering, sorting, and visualization capabilities.\n",
    "\n",
    "10. **geojson_view**: Displays GeoJSON data on a map.\n",
    "11. **pdf_view**: Renders a PDF document.\n",
    "\n",
    "12. **markdown**: Renders Markdown content.\n",
    "\n",
    "13. **textile**: Renders Textile content.\n",
    "14. **dcat_rdf_view**: Displays metadata in DCAT RDF format.\n",
    "15. **json_table_view**: Displays JSON data in a tabular format.\n",
    "\n",
    "16. **html_view**: Renders HTML content.\n",
    "\n",
    "17. **javascript_view**: Executes JavaScript code embedded within a view.\n",
    "\n",
    "18. **pdf_preview**: Provides a preview of a PDF document.\n",
    "\n",
    "These are just a few examples of `view_type` options available in CKAN. Depending on your CKAN setup and any additional plugins you may have installed, there may be additional view types available. When creating a resource view using `resource_view_create`, you'll need to specify the appropriate `view_type` based on how you want the data to be presented or visualized.\n"
   ]
  }
 ],
 "metadata": {
  "kernelspec": {
   "display_name": "ckan_env",
   "language": "python",
   "name": "python3"
  },
  "language_info": {
   "codemirror_mode": {
    "name": "ipython",
    "version": 3
   },
   "file_extension": ".py",
   "mimetype": "text/x-python",
   "name": "python",
   "nbconvert_exporter": "python",
   "pygments_lexer": "ipython3",
   "version": "3.12.2"
  }
 },
 "nbformat": 4,
 "nbformat_minor": 2
}
