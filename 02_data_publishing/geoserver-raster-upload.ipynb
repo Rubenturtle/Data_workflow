{
 "cells": [
  {
   "cell_type": "code",
   "execution_count": 1,
   "metadata": {},
   "outputs": [],
   "source": [
    "\"\"\"We are going to connect to the Geoserver and upload some data\"\"\"\n",
    "# info source: https://pypi.org/project/geoserver-rest/\n",
    "\n",
    "import os\n",
    "from geo.Geoserver import Geoserver #make sure it is updated\n",
    "import paramiko"
   ]
  },
  {
   "cell_type": "code",
   "execution_count": 2,
   "metadata": {},
   "outputs": [],
   "source": [
    "\"\"\"WARNING: No hagas push de esta información\"\"\"\n",
    "#Initialize the library\n",
    "\"\"\"Production-geoserver\"\"\"\n",
    "geo = Geoserver('https://integratedmodelling.org/dev-geoserver', username='', password='')\n",
    "\n",
    "\"\"\"WARNING: No hagas push de esta información\"\"\"\n",
    "server_ip = \"192.168.250.122\"\n",
    "username = \"\"\n",
    "password = \"\"\n"
   ]
  },
  {
   "cell_type": "code",
   "execution_count": 3,
   "metadata": {},
   "outputs": [],
   "source": [
    "def start_ssh_client(server_ip, username, password):\n",
    "    ssh_client = paramiko.SSHClient()\n",
    "    ssh_client.load_system_host_keys()\n",
    "    ssh_client.set_missing_host_key_policy(paramiko.AutoAddPolicy())\n",
    "    ssh_client.connect(server_ip, username=username, password=password)\n",
    "    return ssh_client\n",
    "\n",
    "def sudo_server_petition(ssh_client, password, petition):\n",
    "    # Command to execute (This is for AKIF)\n",
    "    command = f'echo {password} | sudo -S {petition}'\n",
    "    # Execute the command\n",
    "    stdin, stdout, stderr = ssh_client.exec_command(command)\n",
    "    # Capture the output\n",
    "    output = stdout.read().decode().strip()\n",
    "    \n",
    "    return output.split('\\n') # I create a list here\n",
    "\n",
    "def server_petition(ssh_client, petition):\n",
    "    # Command to execute (This is for URA)\n",
    "    command = f'{petition}'\n",
    "    # Execute the command\n",
    "    stdin, stdout, stderr = ssh_client.exec_command(command)\n",
    "    # Capture the output\n",
    "    output = stdout.read().decode().strip()\n",
    "    \n",
    "    return output.split('\\n') # I create a list here\n",
    "\n",
    "def start_scp_client(ssh_client):\n",
    "    scp_client = ssh_client.open_sftp()\n",
    "    # scp_client = scp.SCPClient(ssh_client.get_transport())\n",
    "    return scp_client\n",
    "\n",
    "def upload_file_to_server(scp_client, local_path, remote_directory):\n",
    "    scp_client.put(local_path, remote_path=remote_directory)\n",
    "    scp_client.close()\n"
   ]
  },
  {
   "cell_type": "markdown",
   "metadata": {},
   "source": [
    "### Production Geoserver"
   ]
  },
  {
   "cell_type": "code",
   "execution_count": null,
   "metadata": {},
   "outputs": [],
   "source": [
    "ssh_client = start_ssh_client(server_ip, username, password)\n",
    "\n",
    "# Check that the geoserver_transfer is empty\n",
    "read_request = r\"dir /data/geoserver_transfer\"\n",
    "geoserver_transfer = server_petition(ssh_client, read_request)\n",
    "print(geoserver_transfer)\n",
    "\n",
    "# Pick the container name\n",
    "# Esto es importante, ya que el nombre cambia ligeramente cuando se reinicia docker\n",
    "read_docker_containers_request = r\"docker ps --format '{{.Names}}'\"\n",
    "containers = server_petition(ssh_client, read_docker_containers_request)\n",
    "demo_geoserver_container_list = [name for name in containers if name.startswith(\"demo_geoserver.\")] # Cuidado que no sea el del postgis\n",
    "demo_geoserver_container = str(demo_geoserver_container_list[0]) # Saca el elemento a una string\n",
    "print(demo_geoserver_container)\n",
    "\n",
    "# Optional: Get basename folders in docker container\n",
    "read_docker_data_request = r\"dir /data/docker-data/volumes/geoserver_data/_data/data\"\n",
    "geoserver_folders = server_petition(ssh_client, read_docker_data_request)\n",
    "print(geoserver_folders)"
   ]
  },
  {
   "cell_type": "code",
   "execution_count": null,
   "metadata": {},
   "outputs": [],
   "source": [
    "\"\"\"For production\"\"\"\n",
    "# We asume we put everything on the same folder\n",
    "local_path = r\"C:\\Users\\admin\\Downloads\\dataset-satellite-land-cover\\test\"\n",
    "remote_directory = r\"\\data\\geoserver_transfer\" \n",
    "docker_base_folder = \"/opt/geoserver/data_dir/data/\"\n",
    "namespace_folder = \"im-data-global-landcover\"\n",
    "\n",
    "for folder in os.listdir(local_path):\n",
    "    # Make the folder inside the data transfer\n",
    "    geoserver_transfer_folder = os.path.join(remote_directory, folder).replace(os.sep, '/')\n",
    "    create_folder_request = f\"mkdir {geoserver_transfer_folder}\"\n",
    "    server_petition(ssh_client, create_folder_request)\n",
    "\n",
    "    # Get the files\n",
    "    folder_path = os.path.join(local_path, folder)\n",
    "    file_list = [file for file in os.listdir(folder_path) if os.path.isfile(os.path.join(folder_path, file))]\n",
    "    print(\"Files in the folder: \", file_list)\n",
    "\n",
    "    # Start scp and import the resources\n",
    "    scp_client = start_scp_client(ssh_client)\n",
    "    for file in file_list:\n",
    "        # Prepare both local and remote path (Pro TIP: Always including the file name.xx into the path)\n",
    "        local_file = os.path.join(folder_path, file)\n",
    "        remote_file = os.path.join(geoserver_transfer_folder, file).replace(os.sep, '/') # f\"{folder_destination}/{file}\"\n",
    "        print(remote_file)\n",
    "        scp_client.put(local_file, remote_file)\n",
    "\n",
    "    # do the docker cp to the destination\n",
    "    geoserver_transfer_folder\n",
    "    docker_cp_request = f\"docker cp {geoserver_transfer_folder} {demo_geoserver_container}:{docker_base_folder}{namespace_folder}\"\n",
    "    server_petition(ssh_client, docker_cp_request)\n",
    "\n",
    "    # Delete the folder in the geoserver_folder\n",
    "    delete_folder_request = f\"rm -r {geoserver_transfer_folder}\"\n",
    "    server_petition(ssh_client, delete_folder_request)\n",
    "\n",
    "scp_client.close()\n",
    "ssh_client.close()"
   ]
  },
  {
   "cell_type": "markdown",
   "metadata": {},
   "source": [
    "### Aux geoserver"
   ]
  },
  {
   "cell_type": "code",
   "execution_count": 9,
   "metadata": {},
   "outputs": [
    {
     "name": "stdout",
     "output_type": "stream",
     "text": [
      "['grid.cpg  tcd_2012_020m_eu_03035_d03_full_mosaic', 'grid.dbf  tcd_2012_020m_eu_03035_d03_full_reclass.tif', 'grid.prj  tcd_2015_020m_eu_03035_d05_full_reclass_bad_projection.tif', 'grid.shp  tcd_2015_020m_eu_03035_d05_full_reclass_good_projection.tif', 'grid.shx  tcd_2018_010m_eu_03035_v2_0_mosaic']\n"
     ]
    }
   ],
   "source": [
    "\"\"\"Develop way\"\"\"\n",
    "ssh_client = start_ssh_client(server_ip, username, password)\n",
    "# geoserver aux\n",
    "# read_petittion = r\"dir /data_transfer\"\n",
    "\n",
    "read_request = r\"dir /samba/public/demo-geo-stack/geoserver/data/ruben\"\n",
    "# move_pettition = r\"mv *.tif /samba/public/demo-geo-stack/geoserver/data/ruben\"\n",
    "\n",
    "result = sudo_server_petition(ssh_client, password, read_request)\n",
    "print(result)"
   ]
  },
  {
   "cell_type": "code",
   "execution_count": 11,
   "metadata": {},
   "outputs": [
    {
     "name": "stdout",
     "output_type": "stream",
     "text": [
      "['']\n"
     ]
    }
   ],
   "source": [
    "read_request = r\"dir /data_transfer\"\n",
    "read_request = r\"dir /samba/public/demo-geo-stack/geoserver/data/ruben\"\n",
    "result = server_petition(ssh_client, read_request)\n",
    "print(result)"
   ]
  },
  {
   "cell_type": "code",
   "execution_count": null,
   "metadata": {},
   "outputs": [],
   "source": [
    "\"\"\"For develop\"\"\"\n",
    "# We asume we put everything on the same folder\n",
    "local_path = r\"C:\\Users\\admin\\Downloads\\test\\super_test\"\n",
    "remote_directory = r\"/data_transfer\" \n",
    "\n",
    "for folder in os.listdir(local_path):\n",
    "    # Make the folder inside the data transfer\n",
    "    geoserver_transfer_folder = os.path.join(remote_directory, folder).replace(os.sep, '/')\n",
    "    create_folder_request = f\"mkdir {geoserver_transfer_folder}\"\n",
    "    server_petition(ssh_client, create_folder_request)\n",
    "\n",
    "    # Get the files\n",
    "    folder_path = os.path.join(local_path, folder)\n",
    "    file_list = [file for file in os.listdir(folder_path) if os.path.isfile(os.path.join(folder_path, file))]\n",
    "    print(\"Files in the folder: \", file_list)\n",
    "\n",
    "    # Start scp and import the resources\n",
    "    scp_client = start_scp_client(ssh_client)\n",
    "    for file in file_list:\n",
    "        # Prepare both local and remote path (Pro TIP: Always including the file name.xx into the path)\n",
    "        local_file = os.path.join(folder_path, file)\n",
    "        remote_file = os.path.join(geoserver_transfer_folder, file).replace(os.sep, '/') # f\"{folder_destination}/{file}\"\n",
    "        print(remote_file)\n",
    "        scp_client.put(local_file, remote_file)\n",
    "\n",
    "    # move the data to the destination\n",
    "    geoserver_transfer_folder\n",
    "    docker_cp_request = f\"docker cp {geoserver_transfer_folder} {demo_geoserver_container}:{docker_base_folder}{namespace_folder}\"\n",
    "    server_petition(ssh_client, docker_cp_request)\n",
    "\n",
    "    # Delete the folder in the data_transfer\n",
    "    delete_folder_request = f\"rm -r {geoserver_transfer_folder}\"\n",
    "    server_petition(ssh_client, delete_folder_request)\n",
    "\n",
    "scp_client.close()\n",
    "ssh_client.close()"
   ]
  },
  {
   "cell_type": "markdown",
   "metadata": {},
   "source": [
    "# Geoserver"
   ]
  },
  {
   "cell_type": "code",
   "execution_count": 5,
   "metadata": {},
   "outputs": [],
   "source": []
  },
  {
   "cell_type": "code",
   "execution_count": 17,
   "metadata": {},
   "outputs": [],
   "source": [
    "def get_raster_file_list(path):\n",
    "    File_list = [] #f for f in os.listdir(path) if os.isfile(mypath,f)\n",
    "    for file in os.listdir(path):\n",
    "        if file.endswith(\".tif\") or file.endswith(\".tiff\"):\n",
    "            if file not in File_list:\n",
    "                File_list.append(os.path.join(path,file))\n",
    "        else:\n",
    "            pass\n",
    "    return File_list\n",
    "\n",
    "def geoserver_raster_upload(geo, raster_file, workspace):\n",
    "    # datastore_path = \"/data/\" + folder_name\n",
    "    # datastore_path = os.path.join(\"data\", folder_name)\n",
    "    location = raster_file\n",
    "    name = os.path.basename(raster_file).replace('.tif','')\n",
    "    # Upload raster data to the geoserver\n",
    "    geo.create_coveragestore(layer_name=name, path=location, workspace=workspace) # , data_source=datastore_path\n",
    "    return print(\"It's over, congratulations\")"
   ]
  },
  {
   "cell_type": "code",
   "execution_count": 16,
   "metadata": {},
   "outputs": [],
   "source": [
    "#Input paramters\n",
    "path = r\"Z:\\data\\ruben\\test\"\n",
    "\n",
    "workspace = \"ruben\"\n",
    "datastore = \"your_datastore\"\n",
    "folder_name = \"ruben\"\n"
   ]
  },
  {
   "cell_type": "code",
   "execution_count": 18,
   "metadata": {},
   "outputs": [],
   "source": [
    "get_workspace = geo.get_workspace(workspace)\n",
    "# Check if the workspace exists, if not, create it\n",
    "if get_workspace is None:\n",
    "    # Create a workspace if necesary\n",
    "    geo.create_workspace(workspace=workspace)\n",
    "\n",
    "raster_files = get_raster_file_list(path)\n",
    "\n"
   ]
  },
  {
   "cell_type": "code",
   "execution_count": 13,
   "metadata": {},
   "outputs": [
    {
     "name": "stdout",
     "output_type": "stream",
     "text": [
      "what\\ever\n"
     ]
    }
   ],
   "source": [
    "print(os.path.join(\"what\", \"ever\"))"
   ]
  },
  {
   "cell_type": "code",
   "execution_count": 19,
   "metadata": {},
   "outputs": [
    {
     "name": "stdout",
     "output_type": "stream",
     "text": [
      "It's over, congratulations\n"
     ]
    }
   ],
   "source": [
    "for raster in raster_files:\n",
    "    geoserver_raster_upload(geo, raster, workspace)\n",
    "\n",
    "\n",
    "#geo.create_coveragestore(lyr_name=\"global-accessibility-2021\", path=\"C:/Users/ruben.crespo/Documents/03_tests/global_accesibility/access_50k/store/global-accessibility-2021.tif\", workspace='im-data-global-demography')"
   ]
  }
 ],
 "metadata": {
  "kernelspec": {
   "display_name": "geo_forge_env",
   "language": "python",
   "name": "python3"
  },
  "language_info": {
   "codemirror_mode": {
    "name": "ipython",
    "version": 3
   },
   "file_extension": ".py",
   "mimetype": "text/x-python",
   "name": "python",
   "nbconvert_exporter": "python",
   "pygments_lexer": "ipython3",
   "version": "3.8.15"
  }
 },
 "nbformat": 4,
 "nbformat_minor": 2
}
