{
 "cells": [
  {
   "cell_type": "code",
   "execution_count": 1,
   "metadata": {},
   "outputs": [],
   "source": [
    "\"\"\"We are going to connect to the Geoserver and upload some data\"\"\"\n",
    "# info source: https://pypi.org/project/geoserver-rest/\n",
    "\n",
    "import os\n",
    "from geo.Geoserver import Geoserver #make sure it is updated"
   ]
  },
  {
   "cell_type": "code",
   "execution_count": 2,
   "metadata": {},
   "outputs": [],
   "source": [
    "\"\"\"WARNING: No hagas push de esta información\"\"\"\n",
    "#Initialize the library\n",
    "\"\"\"Production-geoserver\"\"\"\n",
    "geo = Geoserver('https://integratedmodelling.org/dev-geoserver', username='', password='')\n"
   ]
  },
  {
   "cell_type": "code",
   "execution_count": 17,
   "metadata": {},
   "outputs": [],
   "source": [
    "def get_raster_file_list(path):\n",
    "    File_list = [] #f for f in os.listdir(path) if os.isfile(mypath,f)\n",
    "    for file in os.listdir(path):\n",
    "        if file.endswith(\".tif\") or file.endswith(\".tiff\"):\n",
    "            if file not in File_list:\n",
    "                File_list.append(os.path.join(path,file))\n",
    "        else:\n",
    "            pass\n",
    "    return File_list\n",
    "\n",
    "def geoserver_raster_upload(geo, raster_file, workspace):\n",
    "    # datastore_path = \"/data/\" + folder_name\n",
    "    # datastore_path = os.path.join(\"data\", folder_name)\n",
    "    location = raster_file\n",
    "    name = os.path.basename(raster_file).replace('.tif','')\n",
    "    # Upload raster data to the geoserver\n",
    "    geo.create_coveragestore(layer_name=name, path=location, workspace=workspace) # , data_source=datastore_path\n",
    "    return print(\"It's over, congratulations\")"
   ]
  },
  {
   "cell_type": "code",
   "execution_count": 16,
   "metadata": {},
   "outputs": [],
   "source": [
    "#Input paramters\n",
    "path = r\"Z:\\data\\ruben\\test\"\n",
    "\n",
    "workspace = \"ruben\"\n",
    "datastore = \"your_datastore\"\n",
    "folder_name = \"ruben\"\n"
   ]
  },
  {
   "cell_type": "code",
   "execution_count": 18,
   "metadata": {},
   "outputs": [],
   "source": [
    "get_workspace = geo.get_workspace(workspace)\n",
    "# Check if the workspace exists, if not, create it\n",
    "if get_workspace is None:\n",
    "    # Create a workspace if necesary\n",
    "    geo.create_workspace(workspace=workspace)\n",
    "\n",
    "raster_files = get_raster_file_list(path)\n",
    "\n"
   ]
  },
  {
   "cell_type": "code",
   "execution_count": 19,
   "metadata": {},
   "outputs": [
    {
     "name": "stdout",
     "output_type": "stream",
     "text": [
      "It's over, congratulations\n"
     ]
    }
   ],
   "source": [
    "for raster in raster_files:\n",
    "    geoserver_raster_upload(geo, raster, workspace)\n",
    "\n",
    "\n",
    "#geo.create_coveragestore(lyr_name=\"global-accessibility-2021\", path=\"C:/Users/ruben.crespo/Documents/03_tests/global_accesibility/access_50k/store/global-accessibility-2021.tif\", workspace='im-data-global-demography')"
   ]
  }
 ],
 "metadata": {
  "kernelspec": {
   "display_name": "geo_forge_env",
   "language": "python",
   "name": "python3"
  },
  "language_info": {
   "codemirror_mode": {
    "name": "ipython",
    "version": 3
   },
   "file_extension": ".py",
   "mimetype": "text/x-python",
   "name": "python",
   "nbconvert_exporter": "python",
   "pygments_lexer": "ipython3",
   "version": "3.8.15"
  }
 },
 "nbformat": 4,
 "nbformat_minor": 2
}
