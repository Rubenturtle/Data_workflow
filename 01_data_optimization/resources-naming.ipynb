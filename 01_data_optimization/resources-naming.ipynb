{
 "cells": [
  {
   "cell_type": "markdown",
   "metadata": {},
   "source": [
    "# Process to rename the resources\n",
    "- Get the resources\n",
    "- Get the reference \n",
    "- construct the resources name"
   ]
  },
  {
   "cell_type": "code",
   "execution_count": 12,
   "metadata": {},
   "outputs": [],
   "source": [
    "import os\n",
    "import pandas as pd\n",
    "import re"
   ]
  },
  {
   "cell_type": "code",
   "execution_count": 2,
   "metadata": {},
   "outputs": [],
   "source": [
    "def get_raster_file_list(path):\n",
    "    \"\"\"Get a list of the raster files inside the folder\"\"\"\n",
    "    File_list = [] #f for f in os.listdir(path) if os.isfile(mypath,f)\n",
    "    for file in os.listdir(path):\n",
    "        if file.endswith(\".tif\") or file.endswith(\".tiff\"):\n",
    "            if file not in File_list:\n",
    "                File_list.append(os.path.join(path,file))\n",
    "        else:\n",
    "            pass\n",
    "    return File_list\n",
    "\n",
    "def excel_to_df(excel_file, sheet_name):\n",
    "    df = pd.read_excel(excel_file, sheet_name=sheet_name)\n",
    "    return df"
   ]
  },
  {
   "cell_type": "code",
   "execution_count": 3,
   "metadata": {},
   "outputs": [],
   "source": [
    "files = r\"Z:\\data\\iucn-global-ecosystem-typology\\all-maps-raster-geotiff\"\n",
    "excel_file = r\"C:\\Users\\admin\\Downloads\\IUCN-GET-profiles-exported-2023-06-14.xlsx\"\n",
    "sheet_name = \"Short description\""
   ]
  },
  {
   "cell_type": "code",
   "execution_count": 4,
   "metadata": {},
   "outputs": [],
   "source": [
    "File_list = get_raster_file_list(files)\n",
    "df = excel_to_df(excel_file, sheet_name)\n",
    "column_list = df['short name'].tolist()"
   ]
  },
  {
   "cell_type": "code",
   "execution_count": null,
   "metadata": {},
   "outputs": [],
   "source": [
    "modified_list = []\n",
    "for element in column_list:\n",
    "    modified_element = element.replace(\".\", \"_\").replace(\" \", \"_\")\n",
    "    modified_list.append(modified_element)\n",
    "\n",
    "modified_list"
   ]
  },
  {
   "cell_type": "code",
   "execution_count": 29,
   "metadata": {},
   "outputs": [],
   "source": [
    "matches = {}\n",
    "for file in File_list:\n",
    "    filename = os.path.basename(file)\n",
    "    pattern = r'^.*?\\d.*?\\d'\n",
    "    match1 = re.match(pattern, filename)\n",
    "    code1 = match1.group()\n",
    "    for element in modified_list:\n",
    "        match2= re.match(pattern, element)\n",
    "        code2 = match2.group().lower()\n",
    "        if code1 == code2:\n",
    "            new_name = \"IUCN_\" + filename\n",
    "            #aquí se hace el renombre\n",
    "            matches[filename] = element\n"
   ]
  },
  {
   "cell_type": "code",
   "execution_count": 30,
   "metadata": {},
   "outputs": [
    {
     "data": {
      "text/plain": [
       "{'f1_1_perm_upland_streams.tif': 'F1_1_Perm_upland_streams',\n",
       " 'f1_2_perm_lowland_rivers.tif': 'F1_2_Perm_lowland_rivers',\n",
       " 'f1_3_freeze-thaw_streams.tif': 'F1_3_Freeze-thaw_streams',\n",
       " 'f1_4_season_upland_strems.tif': 'F1_4_Season_upland_strems',\n",
       " 'f1_5_season_lowland_rivers.tif': 'F1_5_Season_lowland_rivers',\n",
       " 'f1_6_episodic_arid_rivers.tif': 'F1_6_Episodic_arid_rivers',\n",
       " 'f1_7_large_rivers.tif': 'F1_7_Large_rivers',\n",
       " 'f2_10_subglacial_lakes.tif': 'F2_1_Large_perm_lakes',\n",
       " 'f2_1_large_perm_lakes.tif': 'F2_1_Large_perm_lakes',\n",
       " 'f2_2_small_perm_lakes.tif': 'F2_2_Small_perm_lakes',\n",
       " 'f2_3_seasonal_lakes.tif': 'F2_3_Seasonal_lakes',\n",
       " 'f2_4_freeze-thaw_lakes.tif': 'F2_4_Freeze-thaw_lakes',\n",
       " 'f2_5_ephemeral_lakes.tif': 'F2_5_Ephemeral_lakes',\n",
       " 'f2_6_perm_salt_lakes.tif': 'F2_6_Perm_salt_lakes',\n",
       " 'f2_7_ephem_salt_lakes.tif': 'F2_7_Ephem_salt_lakes',\n",
       " 'f2_8_artesian_springs_oases.tif': 'F2_8_Artesian_springs/oases',\n",
       " 'f2_9_geothermal_wetlands.tif': 'F2_9_Geothermal_wetlands',\n",
       " 'f3_1_large_reservoirs.tif': 'F3_1_Large_reservoirs',\n",
       " 'f3_2_constructed_lacustrine_wetlands.tif': 'F3_2_Constructed_lacustrine_wetlands',\n",
       " 'f3_3_rice_paddies.tif': 'F3_3_Rice_paddies',\n",
       " 'f3_4_freshwater_aquafarms.tif': 'F3_4_Freshwater_aquafarms',\n",
       " 'f3_5_canals_and_drains.tif': 'F3_5_Canals_and_drains',\n",
       " 'fm1_1_deepwater_coastal_inlets.tif': 'FM1_1_Deepwater_coastal_inlets',\n",
       " 'fm1_2_riverine_estuaries_and_bays.tif': 'FM1_2_Riverine_estuaries_and_bays',\n",
       " 'fm1_3_closed_open_inlets.tif': 'FM1_3_Closed/open_inlets',\n",
       " 'm1_1_seagrass_meadows.tif': 'M1_10_Rhodolith_beds',\n",
       " 'm1_2_kelp_forests.tif': 'M1_2_Kelp_forests',\n",
       " 'm1_3_photic_coral_reefs.tif': 'M1_3_Photic_coral_reefs',\n",
       " 'm1_4_shellfish_beds_and_reefs.tif': 'M1_4_Shellfish_beds_and_reefs',\n",
       " 'm1_5_marine_animal_forests.tif': 'M1_5_Marine_animal_forests',\n",
       " 'm1_6_subtidal_rock_reefs.tif': 'M1_6_Subtidal_rock_reefs',\n",
       " 'm1_7_subtidal_sand_beds.tif': 'M1_7_Subtidal_sand_beds',\n",
       " 'm1_8_subtidal_mud_plains.tif': 'M1_8_Subtidal_mud_plains',\n",
       " 'm1_9_upwelling_zones.tif': 'M1_9_Upwelling_zones',\n",
       " 'm2_1_epipelagic_waters.tif': 'M2_1_Epipelagic_waters',\n",
       " 'm2_2_mesopelagic_ocean_waters.tif': 'M2_2_Mesopelagic_ocean_waters',\n",
       " 'm2_3_bathypelagic_ocean_waters.tif': 'M2_3_Bathypelagic_ocean_waters',\n",
       " 'm2_4_abyssopelagic_ocean_waters.tif': 'M2_4_Abyssopelagic_ocean_waters',\n",
       " 'm2_5_sea_ice.tif': 'M2_5_Sea_ice',\n",
       " 'm3_1_continental_slopes.tif': 'M3_1_Continental_slopes',\n",
       " 'm3_2_submarine_canyons.tif': 'M3_2_Submarine_canyons',\n",
       " 'm3_3_abyssal_plains.tif': 'M3_3_Abyssal_plains',\n",
       " 'm3_4_seamounts.tif': 'M3_4_Seamounts',\n",
       " 'm3_5_deepwater_biogenic_beds.tif': 'M3_5_Deepwater_biogenic_beds',\n",
       " 'm3_6_hadal.tif': 'M3_6_Hadal',\n",
       " 'm3_7_chemosynthetic.tif': 'M3_7_Chemosynthetic',\n",
       " 'm4_1_submerged_artificial_structures.tif': 'M4_1_Submerged_artificial_structures',\n",
       " 'm4_2_marine_aquafarms.tif': 'M4_2_Marine_aquafarms',\n",
       " 'mft1_1_river_deltas.tif': 'MFT1_1_River_deltas',\n",
       " 'mft1_2_intertidal_forests.tif': 'MFT1_2_Intertidal_forests',\n",
       " 'mft1_3_coastal_saltmarsh.tif': 'MFT1_3_Coastal_saltmarsh',\n",
       " 'mt1_1_rocky_shores.tif': 'MT1_1_Rocky_shores',\n",
       " 'mt1_2_muddy_shores.tif': 'MT1_2_Muddy_shores',\n",
       " 'mt1_3_sandy_shores.tif': 'MT1_3_Sandy_shores',\n",
       " 'mt1_4_cobble_shores.tif': 'MT1_4_Cobble_shores',\n",
       " 'mt2_1_coastal_shrublands_and_grasslands.tif': 'MT2_1_Coastal_shrublands_and_grasslands',\n",
       " 'mt3_1_artificial_shores.tif': 'MT3_1_Artificial_shores',\n",
       " 's1_1_aerobic_caves.tif': 'S1_1_Aerobic_caves',\n",
       " 's1_2_endolithic_systems.tif': 'S1_2_Endolithic_systems',\n",
       " 's2_1_anthropogenic_subterranean_voids.tif': 'S2_1_Anthropogenic_subterranean_voids',\n",
       " 'sf1_1_underground_streams_and_pools.tif': 'SF1_1_Underground_streams_and_pools',\n",
       " 'sf1_2_groundwater_ecosystems.tif': 'SF1_2_Groundwater_ecosystems',\n",
       " 'sf2_1_water_pipes_and_canals.tif': 'SF2_1_Water_pipes_and_canals',\n",
       " 'sf2_2_flooded_mines.tif': 'SF2_2_Flooded_mines',\n",
       " 'sm1_1_anchialine_caves.tif': 'SM1_1_Anchialine_caves',\n",
       " 'sm1_2_anchialine_pools.tif': 'SM1_2_Anchialine_pools',\n",
       " 'sm1_3_sea_caves.tif': 'SM1_3_Sea_caves',\n",
       " 't1_1_trop_lowland_rainforests.tif': 'T1_1_Trop_lowland_rainforests',\n",
       " 't1_2_trop_dry_forests.tif': 'T1_2_Trop_dry_forests',\n",
       " 't1_3_trop_montane_rainforests.tif': 'T1_3_Trop_montane_rainforests',\n",
       " 't1_4_trop_heath_forests.tif': 'T1_4_Trop_heath_forests',\n",
       " 't2_1_boreal_montane_forests.tif': 'T2_1_Boreal/montane_forests',\n",
       " 't2_2_deciduous_temperate_forests.tif': 'T2_2_Deciduous_temperate_forests',\n",
       " 't2_3_oceanic_temp_rainforests.tif': 'T2_3_Oceanic_temp_rainforests',\n",
       " 't2_4_warm_temp_rainforests.tif': 'T2_4_Warm_temp_rainforests',\n",
       " 't2_5_temp_pyric_humid_forests.tif': 'T2_5_Temp_pyric_humid_forests',\n",
       " 't2_6_temp_sclerophyll_forests.tif': 'T2_6_Temp_sclerophyll_forests',\n",
       " 't3_1_seas_dry_trop_shrublands.tif': 'T3_1_Seas_dry_trop_shrublands',\n",
       " 't3_2_seas_dry_temp_shrublands.tif': 'T3_2_Seas_dry_temp_shrublands',\n",
       " 't3_3_cool_temp_heathlands.tif': 'T3_3_Cool_temp_heathlands',\n",
       " 't3_4_rocky_pavements.tif': 'T3_4_Rocky_pavements',\n",
       " 't4_1_trophic_savannas.tif': 'T4_1_Trophic_savannas',\n",
       " 't4_2_pyric_tussock_savannas.tif': 'T4_2_Pyric_tussock_savannas',\n",
       " 't4_3_hummock_savannas.tif': 'T4_3_Hummock_savannas',\n",
       " 't4_4_temp_woodlands.tif': 'T4_4_Temp_woodlands',\n",
       " 't4_5_temperate_grasslands.tif': 'T4_5_Temperate_grasslands',\n",
       " 't5_1_semi-desert_steppe.tif': 'T5_1_Semi-desert_steppe',\n",
       " 't5_2_succulent_thorny_deserts.tif': 'T5_2_Succulent/Thorny_deserts',\n",
       " 't5_3_sclerophyll_hot_deserts.tif': 'T5_3_Sclerophyll_hot_deserts',\n",
       " 't5_4_cool_temperate_deserts.tif': 'T5_4_Cool_temperate_deserts',\n",
       " 't5_5_hyper-arid_deserts.tif': 'T5_5_Hyper-arid_deserts',\n",
       " 't6_1_permanent_snow.tif': 'T6_1_Permanent_snow',\n",
       " 't6_2_polar_alpine_rock.tif': 'T6_2_Polar/alpine_rock',\n",
       " 't6_3_polar_tundra.tif': 'T6_3_Polar_tundra',\n",
       " 't6_4_temp_alpine_grasslands.tif': 'T6_4_Temp_alpine_grasslands',\n",
       " 't6_5_trop_alpine_grassland.tif': 'T6_5_Trop_alpine_grassland',\n",
       " 't7_1_croplands.tif': 'T7_1_Croplands',\n",
       " 't7_2_sown_pastures_and_fields.tif': 'T7_2_Sown_pastures_and_fields',\n",
       " 't7_3_plantations.tif': 'T7_3_Plantations',\n",
       " 't7_4_urban_and_industrial.tif': 'T7_4_Urban_and_industrial',\n",
       " 't7_5_semi-natural_old_fields.tif': 'T7_5_Semi-natural_old_fields',\n",
       " 'tf1_1_trop_flooded_peat_forests.tif': 'TF1_1_Trop_flooded/peat_forests',\n",
       " 'tf1_2_temp_forested_wetlands.tif': 'TF1_2_Temp_forested_wetlands',\n",
       " 'tf1_3_permanent_marshes.tif': 'TF1_3_Permanent_marshes',\n",
       " 'tf1_4_seasonal_floodplain_marshes.tif': 'TF1_4_Seasonal_floodplain_marshes',\n",
       " 'tf1_5_episodic_arid_floodplains.tif': 'TF1_5_Episodic_arid_floodplains',\n",
       " 'tf1_6_boreal_temperate_bogs.tif': 'TF1_6_Boreal/temperate_bogs',\n",
       " 'tf1_7_boreal_temperate_fens.tif': 'TF1_7_Boreal/temperate_fens'}"
      ]
     },
     "execution_count": 30,
     "metadata": {},
     "output_type": "execute_result"
    }
   ],
   "source": [
    "matches"
   ]
  }
 ],
 "metadata": {
  "kernelspec": {
   "display_name": "geo_forge_env",
   "language": "python",
   "name": "python3"
  },
  "language_info": {
   "codemirror_mode": {
    "name": "ipython",
    "version": 3
   },
   "file_extension": ".py",
   "mimetype": "text/x-python",
   "name": "python",
   "nbconvert_exporter": "python",
   "pygments_lexer": "ipython3",
   "version": "3.8.15"
  }
 },
 "nbformat": 4,
 "nbformat_minor": 2
}
